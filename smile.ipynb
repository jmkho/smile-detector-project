{
 "cells": [
  {
   "attachments": {},
   "cell_type": "markdown",
   "metadata": {},
   "source": [
    "## Smile Recognition Using Haar Cascades\n",
    "\n",
    "### Semester 5: Computer Vision LEC - LA01\n",
    "\n",
    "#### Cindy Amanda Onggirawan - 2440055351 || Jocelyn Michelle - 2440039796"
   ]
  },
  {
   "attachments": {},
   "cell_type": "markdown",
   "metadata": {},
   "source": [
    "Perkembangan teknologi zaman sekarang terus meningkat. Tidak hanya itu, kebutuhan pengguna juga terus berkembang dari yang primer dan mulai memasuki hal-hal sekunder, salah satunya adalah melalui pendeteksi wajah dan ekspresi wajah, seperti senyum (smile). Disini kita hendak mengembangkan sebuah smile detection system yang diimplementasikan melalui Python. Perkembangan selanjutnya bisa dilakukan dengan meng-enhance input yang diterima agar dapat melakukan prediksi dengan lebih baik. \n",
    "\n",
    "Langkah pertama pengerjaan ialah meng-import library yang akan digunakan. Disini, kita memakai 3 library: \n",
    "- CV2 (Untuk pengerjaan dengan gambar)\n",
    "- OS (Untuk pengerjaan dengan directory files)\n",
    "- Numpy (Untuk pengerjaan dengan array)"
   ]
  },
  {
   "cell_type": "code",
   "execution_count": 1,
   "metadata": {},
   "outputs": [],
   "source": [
    "import cv2 \n",
    "import os\n",
    "import numpy as np"
   ]
  },
  {
   "attachments": {},
   "cell_type": "markdown",
   "metadata": {},
   "source": [
    "Disini, kita akan menggunakan model face detector yang telah disediakan oleh OpenCV Haar Cascade, yaitu untuk Face Recognizer dan Smile Recognizer. Maka dari itu, kita akan menggunakan kedua cascade tersebut. "
   ]
  },
  {
   "cell_type": "code",
   "execution_count": 2,
   "metadata": {},
   "outputs": [],
   "source": [
    "face_cascade = cv2.CascadeClassifier('haarcascade_frontalface_default.xml')\n",
    "smile_cascade = cv2.CascadeClassifier('haarcascade_smile.xml')"
   ]
  },
  {
   "attachments": {},
   "cell_type": "markdown",
   "metadata": {},
   "source": [
    "Berikutnya, kita akan melakukan pembacaan dataset train, yang didalamnya telah terbagi ke dalam dua folder: Smile dan No Smile. Disini kita melakukan face recognition menggunakan cascade yang sebelumnya telah kita import (Face Cascde), yang returnnya berupa jumlah wajah yang terdeteksi pada gambar. \n",
    "Untuk memproses gambar yang akan digunakan, pertama-tama kita melakukan resize pada gambar dikarenakan ukurannya yang cukup besar, sehingga akan cukup berat apabila diimplementasikan untuk dataset dengan jumlah data yang cukup besar. Selanjutnya, kita perlu mengkonversi gambar ke dalam versi grayscaled-nya, sebab model Haar Cascade akan diaplikasikan pada gambar hitam-putih (grayscaled images). \n",
    "\n",
    "Untuk hasilnya akan kita simpan dalam variable train_images dan indexnya dalam variable train_images_idx. "
   ]
  },
  {
   "cell_type": "code",
   "execution_count": 3,
   "metadata": {},
   "outputs": [],
   "source": [
    "train_path = 'dataset/train'\n",
    "train_images_type = os.listdir(train_path)\n",
    "\n",
    "train_images = []\n",
    "train_images_idx = []\n",
    "\n",
    "for index, face_type in enumerate(train_images_type):\n",
    "    img_path = f\"{train_path}/{face_type}\"\n",
    "    \n",
    "    for imgs in os.listdir(img_path):\n",
    "        full_path = f\"{img_path}/{imgs}\"\n",
    "        img = cv2.imread(full_path)\n",
    "        width = int(img.shape[1] * 0.2)\n",
    "        height = int(img.shape[0] * 0.2)\n",
    "        img = cv2.resize(img, (width, height))\n",
    "        gray = cv2.cvtColor(img, cv2.COLOR_BGR2GRAY)\n",
    "\n",
    "        face_rect = face_cascade.detectMultiScale(gray, 1.3, 3)\n",
    "        if (len(face_rect) < 1): continue \n",
    "\n",
    "        for (x, y, w, h) in face_rect:\n",
    "            face = gray[y:y+h, w:w+h]\n",
    "            train_images.append(face)\n",
    "            train_images_idx.append(index)"
   ]
  },
  {
   "attachments": {},
   "cell_type": "markdown",
   "metadata": {},
   "source": [
    "Selanjutnya, dataset yang telah kita train sebelumnya akan kita feed pada LBPH (Local Binary Pattern Histograms) Face Recognizer. LBPH ini kita gunakan untuk merecognize wajah yang terdapat dalam dataset ini tergolong ke dalam tipe yang mana, _smile_ atau _no smile_. \n",
    "\n",
    "Cara kerjanya pun dapat dibilang cukup sederhana. LBPH merupakan penggabungan dari LBP (Local Binary Pattern) dan descriptors dari HOG (Histograms of Oriented Gradients). Pada kasus ini, kita hanya akan mengoperkan 2 parameter yaitu radius (jarak di sekitar pixel tengah) dan neighbors (jumlah pixel yang digunakan pada sekitar center pixel)."
   ]
  },
  {
   "cell_type": "code",
   "execution_count": 5,
   "metadata": {},
   "outputs": [],
   "source": [
    "face_recognizer = cv2.face.LBPHFaceRecognizer_create()\n",
    "face_recognizer.train(train_images, np.array(train_images_idx))"
   ]
  },
  {
   "attachments": {},
   "cell_type": "markdown",
   "metadata": {},
   "source": [
    "Sekarang kita dapat menggunakan model yang telah dipersiapkan sebelumnya untuk test dataset kita. Langkah-langkah yang dilakukan sama seperti yang kita sebelumnya lakukan untuk training dataset, namun disini kita menambahkan satu recognizer yaitu *smile detector* untuk mendeteksi keberadaan ekspresi senyum pada wajah, yang juga akan mengimplementasikan model Haar cascade. Hasil akan ditunjukkan dengan mengkotakkan wajah dan menunjukkan apakah ekspresi wajah tersebut sedang tersenyum atau tidak. \n",
    "\n",
    "Disini, kita membuat model untuk mendeteksi hanya satu wajah manusia, dengan data yang diambil dari local yang sudah disediakan. Kedepannya kita dapat meng-improve model ini dengan memperbolehkan pendeteksian beberapa wajah sekaligus, dengan data yang didapatkan dari user input maupun diambil secara real-time menggunakan kamera, serta dapat mendeteksi berbagai ekspresi wajah lainnya juga. "
   ]
  },
  {
   "cell_type": "code",
   "execution_count": 17,
   "metadata": {},
   "outputs": [
    {
     "name": "stdout",
     "output_type": "stream",
     "text": [
      "1 detected_faces\n",
      "1 detected_faces\n",
      "1 detected_faces\n",
      "1 detected_faces\n",
      "1 detected_faces\n",
      "1 detected_faces\n",
      "1 detected_faces\n",
      "1 detected_faces\n",
      "1 detected_faces\n",
      "1 detected_faces\n"
     ]
    },
    {
     "data": {
      "text/plain": [
       "-1"
      ]
     },
     "execution_count": 17,
     "metadata": {},
     "output_type": "execute_result"
    }
   ],
   "source": [
    "test_path = 'dataset/test'\n",
    "\n",
    "for images in os.listdir(test_path):\n",
    "    full_image_path = f\"{test_path}/{images}\"\n",
    "    img = cv2.imread(full_image_path)\n",
    "    # width = int(img.shape[1] * 0.08)\n",
    "    # height = int(img.shape[0] * 0.08)\n",
    "    img = cv2.resize(img, (width, height))\n",
    "    gray = cv2.cvtColor(img, cv2.COLOR_BGR2GRAY)\n",
    "\n",
    "    detected_faces = face_cascade.detectMultiScale(gray, 1.2, 3)\n",
    "    print(f\"{len(detected_faces)} detected_faces\")\n",
    "\n",
    "    for (x, y, w, h) in detected_faces:\n",
    "        if (len(detected_faces) < 1): \n",
    "            # no faces detected\n",
    "            cv2.putText(img, \"No Face Found\", (50, 50), cv2.FONT_HERSHEY_PLAIN, 5, (0,0,255), 3)\n",
    "\n",
    "        else:\n",
    "            face_img = gray[y:y+h, x:x+w]\n",
    "            smile_rect, reject_level, level_weight = smile_cascade.detectMultiScale3(face_img, 2.5, 20, outputRejectLevels=True)\n",
    "\n",
    "            result, confidence = face_recognizer.predict(face_img)\n",
    "            \n",
    "            text = f\"{[result]} - {confidence}\"\n",
    "            cv2.putText(img, text, (x, y+h+15), cv2.FONT_HERSHEY_PLAIN, 0.5, (0,255,0))\n",
    "\n",
    "            if len(level_weight) == 0:\n",
    "                cv2.rectangle(img, (x, y), (x+w, y+h), (0,0,255), 3)\n",
    "                cv2.putText(img, \"Not Smiling\", (x+3, y+h-5), cv2.FONT_HERSHEY_PLAIN, 0.9, (0,0,255), 1)\n",
    "            else:\n",
    "                if max(level_weight) < 0:\n",
    "                    cv2.rectangle(img, (x, y), (x+w, y+h), (0,0,255), 3)\n",
    "                    cv2.putText(img, \"Not Smiling\", (x+3, y+h-5), cv2.FONT_HERSHEY_PLAIN, 0.9, (0,0,255), 1)\n",
    "                else:\n",
    "                    cv2.rectangle(img, (x, y), (x+w, y+h), (0,255,0), 3)\n",
    "                    cv2.putText(img, \"Smiling\", (x+3, y+h-5), cv2.FONT_HERSHEY_PLAIN, 0.9, (0,255,0), 1)\n",
    "\n",
    "    cv2.imshow(f\"Image {images}\", img)\n",
    "    cv2.waitKey(0)\n",
    "\n",
    "cv2.destroyAllWindows()\n",
    "cv2.waitKey(0)"
   ]
  },
  {
   "attachments": {},
   "cell_type": "markdown",
   "metadata": {},
   "source": [
    "Model ini mendeteksi satu wajah untuk setiap test data yang sudah disediakan. Hasil test menunjukkan bahwa 9 dari 10 gambar terdeteksi dengan benar (smiling face), sedangkan 1 gambar (kiri, [3]) yang menunjukkan ekspresi sedih  namun terdeteksi sedang tersenyum. Ini menandakan bahwa model kita masih harus diperbaiki lagi."
   ]
  }
 ],
 "metadata": {
  "kernelspec": {
   "display_name": "py",
   "language": "python",
   "name": "python3"
  },
  "language_info": {
   "codemirror_mode": {
    "name": "ipython",
    "version": 3
   },
   "file_extension": ".py",
   "mimetype": "text/x-python",
   "name": "python",
   "nbconvert_exporter": "python",
   "pygments_lexer": "ipython3",
   "version": "3.10.8"
  },
  "orig_nbformat": 4,
  "vscode": {
   "interpreter": {
    "hash": "b105d18e1b4e505180aa67f978f4b8e5946d4d1b333115b4d04d4356e732a07a"
   }
  }
 },
 "nbformat": 4,
 "nbformat_minor": 2
}
