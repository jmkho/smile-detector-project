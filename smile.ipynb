{
 "cells": [
  {
   "cell_type": "code",
   "execution_count": 1,
   "metadata": {},
   "outputs": [],
   "source": [
    "import cv2 \n",
    "import os\n",
    "import numpy as np"
   ]
  },
  {
   "cell_type": "code",
   "execution_count": 2,
   "metadata": {},
   "outputs": [],
   "source": [
    "face_cascade = cv2.CascadeClassifier('haarcascade_frontalface_default.xml')\n",
    "smile_cascade = cv2.CascadeClassifier('haarcascade_smile.xml')"
   ]
  },
  {
   "cell_type": "code",
   "execution_count": 3,
   "metadata": {},
   "outputs": [],
   "source": [
    "train_path = 'dataset/train'\n",
    "train_images_type = os.listdir(train_path)\n",
    "\n",
    "train_images = []\n",
    "train_images_idx = []\n",
    "\n",
    "for index, face_type in enumerate(train_images_type):\n",
    "    img_path = f\"{train_path}/{face_type}\"\n",
    "    \n",
    "    for imgs in os.listdir(img_path):\n",
    "        full_path = f\"{img_path}/{imgs}\"\n",
    "        img = cv2.imread(full_path)\n",
    "        width = int(img.shape[1] * 0.2)\n",
    "        height = int(img.shape[0] * 0.2)\n",
    "        img = cv2.resize(img, (width, height))\n",
    "        gray = cv2.cvtColor(img, cv2.COLOR_BGR2GRAY)\n",
    "\n",
    "        face_rect = face_cascade.detectMultiScale(gray, 1.3, 3)\n",
    "        if (len(face_rect) < 1): continue \n",
    "\n",
    "        for (x, y, w, h) in face_rect:\n",
    "            face = gray[y:y+h, w:w+h]\n",
    "            train_images.append(face)\n",
    "            train_images_idx.append(index)"
   ]
  },
  {
   "cell_type": "code",
   "execution_count": 5,
   "metadata": {},
   "outputs": [],
   "source": [
    "face_recognizer = cv2.face.LBPHFaceRecognizer_create()\n",
    "face_recognizer.train(train_images, np.array(train_images_idx))"
   ]
  },
  {
   "cell_type": "code",
   "execution_count": 14,
   "metadata": {},
   "outputs": [
    {
     "name": "stdout",
     "output_type": "stream",
     "text": [
      "1 detected_faces\n",
      "1 detected_faces\n",
      "1 detected_faces\n",
      "1 detected_faces\n",
      "1 detected_faces\n",
      "1 detected_faces\n",
      "1 detected_faces\n",
      "1 detected_faces\n",
      "1 detected_faces\n",
      "1 detected_faces\n"
     ]
    },
    {
     "data": {
      "text/plain": [
       "-1"
      ]
     },
     "execution_count": 14,
     "metadata": {},
     "output_type": "execute_result"
    }
   ],
   "source": [
    "test_path = 'dataset/test'\n",
    "\n",
    "for images in os.listdir(test_path):\n",
    "    full_image_path = f\"{test_path}/{images}\"\n",
    "    img = cv2.imread(full_image_path)\n",
    "    # width = int(img.shape[1] * 0.08)\n",
    "    # height = int(img.shape[0] * 0.08)\n",
    "    img = cv2.resize(img, (width, height))\n",
    "    gray = cv2.cvtColor(img, cv2.COLOR_BGR2GRAY)\n",
    "\n",
    "    detected_faces = face_cascade.detectMultiScale(gray, 1.2, 3)\n",
    "    print(f\"{len(detected_faces)} detected_faces\")\n",
    "\n",
    "    for (x, y, w, h) in detected_faces:\n",
    "        if (len(detected_faces) < 1): \n",
    "            # no faces detected\n",
    "            cv2.putText(img, \"No Face Found\", (50, 50), cv2.FONT_HERSHEY_PLAIN, 5, (0,0,255), 3)\n",
    "\n",
    "        else:\n",
    "            face_img = gray[y:y+h, x:x+w]\n",
    "            smile_rect, reject_level, level_weight = smile_cascade.detectMultiScale3(face_img, 2.5, 20, outputRejectLevels=True)\n",
    "\n",
    "            result, confidence = face_recognizer.predict(face_img)\n",
    "\n",
    "            cv2.rectangle(img, (x, y), (x+w, y+h), (0,255,0), 3)\n",
    "            text = f\"{[result]} - {confidence}\"\n",
    "            cv2.putText(img, text, (x, y+h+15), cv2.FONT_HERSHEY_PLAIN, 0.5, (0,255,0))\n",
    "\n",
    "            if len(level_weight) == 0:\n",
    "                cv2.putText(img, \"Not Smiling\", (x+3, y+h-5), cv2.FONT_HERSHEY_PLAIN, 0.9, (0,0,255), 1)\n",
    "            else:\n",
    "                if max(level_weight) < 0:\n",
    "                    cv2.putText(img, \"Not Smiling\", (x+3, y+h-15), cv2.FONT_HERSHEY_PLAIN, 0.9, (0,0,255), 1)\n",
    "                else:\n",
    "                    cv2.putText(img, \"Smiling\", (x+3, y+h-15), cv2.FONT_HERSHEY_PLAIN, 0.9, (0,255,0), 1)\n",
    "\n",
    "    cv2.imshow(f\"Image {images}\", img)\n",
    "    cv2.waitKey(0)\n",
    "\n",
    "cv2.destroyAllWindows()\n",
    "cv2.waitKey(0)"
   ]
  },
  {
   "cell_type": "code",
   "execution_count": null,
   "metadata": {},
   "outputs": [],
   "source": []
  }
 ],
 "metadata": {
  "kernelspec": {
   "display_name": "py",
   "language": "python",
   "name": "python3"
  },
  "language_info": {
   "codemirror_mode": {
    "name": "ipython",
    "version": 3
   },
   "file_extension": ".py",
   "mimetype": "text/x-python",
   "name": "python",
   "nbconvert_exporter": "python",
   "pygments_lexer": "ipython3",
   "version": "3.10.8"
  },
  "orig_nbformat": 4,
  "vscode": {
   "interpreter": {
    "hash": "b105d18e1b4e505180aa67f978f4b8e5946d4d1b333115b4d04d4356e732a07a"
   }
  }
 },
 "nbformat": 4,
 "nbformat_minor": 2
}
